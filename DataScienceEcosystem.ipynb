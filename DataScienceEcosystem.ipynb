{
 "cells": [
  {
   "cell_type": "markdown",
   "id": "a5896a85-ba76-42d7-87ea-e762e24666d5",
   "metadata": {},
   "source": [
    "# Data Science Tools and Ecosystem"
   ]
  },
  {
   "cell_type": "markdown",
   "id": "02c2b2ba-0ed3-40b5-b034-9811b3bf870f",
   "metadata": {},
   "source": [
    "# In this notebook, Data Science Tools and Ecosystem are summarized."
   ]
  },
  {
   "cell_type": "markdown",
   "id": "a763cb1d-aac6-49e6-8805-f0332e7ab890",
   "metadata": {},
   "source": [
    "**Objectives:**\n",
    "\n",
    "- Popular languages for Data Science are Python, R, Sql etc.\n",
    "- key libraries used in Data Science are Pandays, Numpy, Scikit-learn.\n",
    "- Introduce arithmetic expressions in Python\n",
    "- Demonstrate the use of code cells for calculations"
   ]
  },
  {
   "cell_type": "markdown",
   "id": "de5dec20-cb0a-499f-9573-d10efd4c8aea",
   "metadata": {},
   "source": [
    "# Some of the popular languages that Data Scientists use are:\n",
    "\n",
    "# 1. Python\n",
    "# 2. R\n",
    "# 3. SQL\n"
   ]
  },
  {
   "cell_type": "markdown",
   "id": "c96f0298-51eb-45e9-8835-ecc8a882a9df",
   "metadata": {},
   "source": [
    "# Some of the commonly used libraries used by Data Scientists include:\n",
    "\n",
    "# 1. Pandas\n",
    "# 2. NumPy\n",
    "# 3. Scikit-learn\n",
    "# 4. TensorFlow\n",
    "# 5. Keras "
   ]
  },
  {
   "cell_type": "markdown",
   "id": "3e9957ec-daf9-43b4-b007-36403d49b734",
   "metadata": {},
   "source": [
    "| Data Science Tools |\n",
    "|--------------------|\n",
    "| Jupyter Notebook   |\n",
    "| RStudio            |\n",
    "| Apache Zeppelin    |\n"
   ]
  },
  {
   "cell_type": "markdown",
   "id": "149c96b4-2267-41a5-8e02-b57d6470fe84",
   "metadata": {},
   "source": [
    "### Below are a few examples of evaluating arithmetic expressions in Python"
   ]
  },
  {
   "cell_type": "code",
   "execution_count": 3,
   "id": "a4e957f5-fd94-4c91-9c7a-d27c7e293030",
   "metadata": {},
   "outputs": [
    {
     "data": {
      "text/plain": [
       "17"
      ]
     },
     "execution_count": 3,
     "metadata": {},
     "output_type": "execute_result"
    }
   ],
   "source": [
    "# This is a simple arithmetic expression to multiply then add integers\n",
    "(3 * 4) + 5\n"
   ]
  },
  {
   "cell_type": "code",
   "execution_count": 4,
   "id": "140ce50d-fd59-4a25-b276-50d77f396743",
   "metadata": {},
   "outputs": [
    {
     "data": {
      "text/plain": [
       "3.3333333333333335"
      ]
     },
     "execution_count": 4,
     "metadata": {},
     "output_type": "execute_result"
    }
   ],
   "source": [
    "# This will convert 200 minutes to hours by diving by 60\n",
    "200/60"
   ]
  },
  {
   "cell_type": "markdown",
   "id": "0d2b8fcf-671a-41dd-bace-f3b10141fca7",
   "metadata": {},
   "source": [
    "## Author\n",
    "\n",
    "Lakshmi Holla\n",
    "\n",
    "Niveditha Pandith\n"
   ]
  },
  {
   "cell_type": "code",
   "execution_count": null,
   "id": "f442f872-0346-40bd-99fd-15e9a281200c",
   "metadata": {},
   "outputs": [],
   "source": []
  }
 ],
 "metadata": {
  "kernelspec": {
   "display_name": "Python 3 (ipykernel)",
   "language": "python",
   "name": "python3"
  },
  "language_info": {
   "codemirror_mode": {
    "name": "ipython",
    "version": 3
   },
   "file_extension": ".py",
   "mimetype": "text/x-python",
   "name": "python",
   "nbconvert_exporter": "python",
   "pygments_lexer": "ipython3",
   "version": "3.11.9"
  }
 },
 "nbformat": 4,
 "nbformat_minor": 5
}
